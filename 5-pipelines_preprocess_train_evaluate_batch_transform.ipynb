{
 "cells": [
  {
   "cell_type": "markdown",
   "id": "f207c2b8",
   "metadata": {
    "papermill": {
     "duration": 0.029403,
     "end_time": "2022-07-13T16:07:44.040408",
     "exception": false,
     "start_time": "2022-07-13T16:07:44.011005",
     "status": "completed"
    },
    "tags": []
   },
   "source": [
    "# Amazon SageMaker Pipelines를 사용하여 모델 훈련 및 평가를 위한 작업 오케스트레이션"
   ]
  },
  {
   "cell_type": "markdown",
   "id": "6f04756e",
   "metadata": {
    "papermill": {
     "duration": 0.029403,
     "end_time": "2022-07-13T16:07:44.040408",
     "exception": false,
     "start_time": "2022-07-13T16:07:44.011005",
     "status": "completed"
    },
    "tags": []
   },
   "source": [
    "Amazon SageMaker Pipelines는 머신러닝(ML) 애플리케이션 개발자와 운영 엔지니어에게 SageMaker 작업을 조정하고 재현 가능한 ML 파이프라인을 작성할 수 있는 기능을 제공합니다. 또한 실시간으로 낮은 지연 시간으로 추론을 위해 맞춤형 모델을 배포하고, Batch Transform을 사용하여 오프라인 추론을 실행하며, 아티팩트의 계보를 추적할 수 있도록 합니다. 사용자는 생산 워크플로우 배포 및 모니터링, 모델 아티팩트 배포, 아티팩트 계보 추적 등을 단순한 인터페이스를 통해 수행하며, ML 애플리케이션 개발을 위한 안전성과 최선의 실천 원칙을 준수할 수 있습니다.\n",
    "\n",
    "SageMaker Pipelines 서비스는 SageMaker Pipeline 도메인 특정 언어(DSL:domain specific language)를 지원하며, 이는 선언적 JSON 사양입니다. 이 DSL은 파이프라인 매개변수와 SageMaker 작업 단계를 정의하는 유향 비순환 그래프(DAG)를 정의합니다. SageMaker Python 소프트웨어 개발 키트(SDK)는 엔지니어와 과학자들이 이미 익숙한 구조를 사용하여 파이프라인 DSL 생성을 간소화합니다.\n",
    "\n",
    "## Runtime\n",
    "\n",
    "이 노트북은 약 40분이 소요됩니다.\n",
    "\n",
    "## Contents\n",
    "\n",
    "1. [SageMaker Pipelines](#SageMaker-Pipelines)\n",
    "1. [Notebook Overview](#Notebook-Overview)\n",
    "1. [A SageMaker Pipeline](#A-SageMaker-Pipeline)\n",
    "1. [Dataset](#Dataset)\n",
    "1. [Define Parameters to Parametrize Pipeline Execution](#Define-Parameters-to-Parametrize-Pipeline-Execution)\n",
    "1. [Define a Processing Step for Feature Engineering](#Define-a-Processing-Step-for-Feature-Engineering)\n",
    "1. [Define a Training Step to Train a Model](#Define-a-Training-Step-to-Train-a-Model)\n",
    "1. [Define a Model Evaluation Step to Evaluate the Trained Model](#Define-a-Model-Evaluation-Step-to-Evaluate-the-Trained-Model)\n",
    "1. [Define a Create Model Step to Create a Model](#Define-a-Create-Model-Step-to-Create-a-Model)\n",
    "1. [Define a Transform Step to Perform Batch Transformation](#Define-a-Transform-Step-to-Perform-Batch-Transformation)\n",
    "1. [Define a Register Model Step to Create a Model Package](#Define-a-Register-Model-Step-to-Create-a-Model-Package)\n",
    "1. [Define a Fail Step to Terminate the Pipeline Execution and Mark it as Failed](#Define-a-Fail-Step-to-Terminate-the-Pipeline-Execution-and-Mark-it-as-Failed)\n",
    "1. [Define a Condition Step to Check Accuracy and Conditionally Create a Model and Run a Batch Transformation and Register a Model in the Model Registry, Or Terminate the Execution in Failed State](#Define-a-Condition-Step-to-Check-Accuracy-and-Conditionally-Create-a-Model-and-Run-a-Batch-Transformation-and-Register-a-Model-in-the-Model-Registry,-Or-Terminate-the-Execution-in-Failed-State)\n",
    "1. [Define a Pipeline of Parameters, Steps, and Conditions](#Define-a-Pipeline-of-Parameters,-Steps,-and-Conditions)\n",
    "1. [Submit the pipeline to SageMaker and start execution](#Submit-the-pipeline-to-SageMaker-and-start-execution)\n",
    "1. [Pipeline Operations: Examining and Waiting for Pipeline Execution]"
   ]
  },
  {
   "cell_type": "markdown",
   "id": "57abefb0",
   "metadata": {
    "papermill": {
     "duration": 0.029368,
     "end_time": "2022-07-13T16:07:44.099261",
     "exception": false,
     "start_time": "2022-07-13T16:07:44.069893",
     "status": "completed"
    },
    "tags": []
   },
   "source": [
    "## SageMaker Pipelines\n",
    "\n",
    "SageMaker Pipelines는 다음 활동을 지원하며, 이 노트북에서 시연됩니다:\n",
    "\n",
    "* Pipelines - SageMaker 작업 및 리소스 생성을 조정하기 위한 단계와 조건의 DAG(방향성 비순환 그래프)\n",
    "* 처리 작업 단계 - SageMaker에서 데이터 처리 작업(예: Feature Engineering, 데이터 검증, 모델 평가, 모델 해석 등)을 실행하기 위한 간소화되고 관리되는 경험\n",
    "* 훈련 작업 단계 - 훈련 데이터셋에서 예시를 제시하여 모델이 예측을 수행하도록 가르치는 반복적 프로세스\n",
    "* 조건부 실행 단계 - 파이프라인 내 분기 실행을 조건부로 제공하는 단계\n",
    "* 모델 등록 단계 - Model Registry에 모델 패키지 리소스를 생성하여 Amazon SageMaker에서 배포 가능한 모델을 생성하는 데 사용할 수 있는 단계\n",
    "* 모델 생성 단계 - 변환 단계에서 사용하거나 나중에 엔드포인트로 게시하기 위해 모델을 생성하는 단계\n",
    "* 변환 작업 단계 - 데이터셋에서 훈련이나 추론에 방해가 되는 노이즈나 편향을 제거하거나, 대규모 데이터셋에서 추론을 얻거나, 지속적 엔드포인트가 필요하지 않을 때 추론을 실행하는 배치 변환\n",
    "* 실패 단계 - 파이프라인 실행을 중단하고 파이프라인 실행을 실패로 표시하는 단계\n",
    "* 매개변수화 파이프라인 실행 - 지정된 매개변수에 따라 파이프라인 실행의 변형을 허용하는 단계 "
   ]
  },
  {
   "cell_type": "markdown",
   "id": "f8fd6f33",
   "metadata": {
    "papermill": {
     "duration": 0.029618,
     "end_time": "2022-07-13T16:07:44.158330",
     "exception": false,
     "start_time": "2022-07-13T16:07:44.128712",
     "status": "completed"
    },
    "tags": []
   },
   "source": [
    "## 노트북 개요\n",
    "\n",
    "이 노트북에서는 다음과 같은 방법을 보여줍니다:\n",
    "\n",
    "* SageMaker 파이프라인을 매개변수화하기 위해 사용할 수 있는 파이프라인 매개변수 집합을 정의합니다.\n",
    "* 입력 데이터를 정제, 피처엔지니어링, 훈련 및 테스트 데이터 세트로 분할하는 처리 단계를 정의합니다.\n",
    "* 사전 처리된 훈련 데이터 세트를 사용하여 모델을 훈련하는 훈련 단계를 정의합니다.\n",
    "* 테스트 데이터 세트에서 훈련된 모델의 성능을 평가하는 처리 단계를 정의합니다.\n",
    "* 훈련에 사용된 모델 아티팩트에서 모델을 생성하는 모델 생성 단계를 정의합니다.\n",
    "* 생성된 모델을 기반으로 배치 변환을 수행하는 변환 단계를 정의합니다.\n",
    "* 모델 훈련에 사용된 에스티메이터와 모델 아티팩트에서 모델 패키지를 생성하는 모델 등록 단계를 정의합니다.\n",
    "* 이전 단계의 출력을 기반으로 조건을 측정하고 조건에 따라 다른 단계를 실행하는 조건부 단계를 정의합니다.\n",
    "* 실행 실패의 원인을 표시하는 사용자 정의 오류 메시지와 함께 실패 단계를 정의합니다.\n",
    "* 정의된 매개변수와 단계를 포함하여 DAG에서 파이프라인 정의를 정의하고 생성합니다.\n",
    "* 파이프라인 실행을 시작하고 실행이 완료될 때까지 기다립니다.\n",
    "* S3 버킷에서 모델 평가 보고서를 다운로드하여 검토합니다.\n",
    "* 두 번째 파이프라인 실행을 시작합니다."
   ]
  },
  {
   "cell_type": "markdown",
   "id": "38772d5a",
   "metadata": {
    "papermill": {
     "duration": 0.029536,
     "end_time": "2022-07-13T16:07:44.217483",
     "exception": false,
     "start_time": "2022-07-13T16:07:44.187947",
     "status": "completed"
    },
    "tags": []
   },
   "source": [
    "## A SageMaker Pipeline\n",
    "\n",
    "생성하는 파이프라인은 전처리, 훈련, 평가, 모델 생성, 배치 변환, 모델 등록의 일반적인 머신러닝(ML) 애플리케이션 패턴을 따릅니다:\n",
    "\n",
    "![A typical ML Application pipeline](https://raw.githubusercontent.com/aws/amazon-sagemaker-examples/main/sagemaker-pipelines/tabular/abalone_build_train_deploy/img/pipeline-full.png)"
   ]
  },
  {
   "cell_type": "markdown",
   "id": "9607841c",
   "metadata": {
    "papermill": {
     "duration": 0.029684,
     "end_time": "2022-07-13T16:07:44.276589",
     "exception": false,
     "start_time": "2022-07-13T16:07:44.246905",
     "status": "completed"
    },
    "tags": []
   },
   "source": [
    "## Dataset\n",
    "\n",
    "사용하는 데이터셋은 [UCI Machine Learning Abalone Dataset](https://archive.ics.uci.edu/ml/datasets/abalone) [1]입니다. 이 작업의 목적은 아발론 달팽이의 물리적 측정값을 기반으로 그 연령을 결정하는 것입니다. 근본적으로 이는 회귀 문제입니다.\n",
    "\n",
    "데이터셋에는 다음과 같은 특징이 포함되어 있습니다: 길이(가장 긴 껍질 측정값), 직경(길이에 수직인 직경), 높이(껍질 내 육류 포함 높이), 전체 무게(전체 아발론 무게), 껍질 제거 후 무게(육류 무게), 내장 무게(출혈 후 내장 무게), 건조 후 껍질 무게, 성별(‘M’, ‘F’, 'I'에서 'I'는 유아를 의미함), 고리 수(정수).\n",
    "\n",
    "고리 수는 연령의 좋은 근사치로 나타납니다(연령은 고리 수 + 1.5입니다). 그러나 이 수치를 얻기 위해서는 껍질을 원뿔 모양으로 절단하고, 절편을 염색한 후 현미경을 통해 고리 수를 세는 과정이 필요하며, 이는 시간이 많이 소요되는 작업입니다. 반면 다른 물리적 측정값은 더 쉽게 확인할 수 있습니다. 이 데이터셋을 사용하여 다른 물리적 측정값을 통해 고리 수 변수의 예측 모델을 구축합니다.\n",
    "\n",
    "데이터를 S3 버킷에 업로드하기 전에 SageMaker Python SDK를 설치하고 이 노트북에서 나중에 사용할 수 있는 일부 상수를 수집합니다.\n",
    "\n",
    "> [1] Dua, D. and Graff, C. (2019). [UCI Machine Learning Repository](http://archive.ics.uci.edu/ml). Irvine, CA: University of California, School of Information and Computer Science."
   ]
  },
  {
   "cell_type": "code",
   "execution_count": null,
   "id": "ef441354",
   "metadata": {
    "papermill": {
     "duration": 3.905415,
     "end_time": "2022-07-13T16:07:48.212278",
     "exception": false,
     "start_time": "2022-07-13T16:07:44.306863",
     "status": "completed"
    },
    "pycharm": {
     "name": "#%%\n"
    },
    "tags": []
   },
   "outputs": [],
   "source": [
    "import sys\n",
    "\n",
    "!{sys.executable} -m pip install \"sagemaker>=2.99.0\"\n",
    "\n",
    "import boto3\n",
    "import sagemaker\n",
    "from sagemaker.workflow.pipeline_context import PipelineSession\n",
    "\n",
    "sagemaker_session = sagemaker.session.Session()\n",
    "region = sagemaker_session.boto_region_name\n",
    "role = sagemaker.get_execution_role()\n",
    "pipeline_session = PipelineSession()\n",
    "\n",
    "model_package_group_name = f\"AbaloneModelPackageGroupName\""
   ]
  },
  {
   "cell_type": "code",
   "execution_count": null,
   "id": "b0efd60e-618c-4a94-a001-781ebf4775f6",
   "metadata": {},
   "outputs": [],
   "source": [
    "print(f\"Using Execution Role: {role}\")\n",
    "print(f\"Region: {region}\")"
   ]
  },
  {
   "cell_type": "markdown",
   "id": "c03f70f4",
   "metadata": {
    "papermill": {
     "duration": 0.031185,
     "end_time": "2022-07-13T16:07:48.274459",
     "exception": false,
     "start_time": "2022-07-13T16:07:48.243274",
     "status": "completed"
    },
    "tags": []
   },
   "source": [
    "이제 데이터를 기본 버킷에 업로드하세요. `input_data_uri`에 자신의 데이터 세트를 적절히 선택할 수 있습니다."
   ]
  },
  {
   "cell_type": "code",
   "execution_count": null,
   "id": "f15c8059",
   "metadata": {
    "papermill": {
     "duration": 0.19199,
     "end_time": "2022-07-13T16:07:48.498111",
     "exception": false,
     "start_time": "2022-07-13T16:07:48.306121",
     "status": "completed"
    },
    "pycharm": {
     "name": "#%%\n"
    },
    "tags": []
   },
   "outputs": [],
   "source": [
    "!mkdir -p data"
   ]
  },
  {
   "cell_type": "code",
   "execution_count": null,
   "id": "a6a83533-6801-4eb9-a99b-c72c9650b000",
   "metadata": {},
   "outputs": [],
   "source": [
    "# Lookup Sagemaker Unified Studio project attributes using Project() class:\n",
    "from sagemaker_studio import Project\n",
    "project = Project()\n",
    "\n",
    "print(project.id)\n",
    "print(project.name)\n",
    "print(project.domain_id)\n",
    "print(project.project_status)\n",
    "print(project.domain_unit_id)\n",
    "print(project.project_profile_id)\n",
    "print(project.user_id)"
   ]
  },
  {
   "cell_type": "code",
   "execution_count": null,
   "id": "696c9b42-3e3e-4505-bb90-36ccd9d4f3b6",
   "metadata": {},
   "outputs": [],
   "source": [
    "# Lookup Sagemaker Unified Studio Project S3 locations:\n",
    "\n",
    "default_bucket = sagemaker_session.default_bucket()\n",
    "default_prefix = sagemaker_session.default_bucket_prefix\n",
    "print(f'SMUS default bucket: {default_bucket}')\n",
    "print(f'SMUS default prefix: {default_prefix}')\n",
    "\n",
    "smus_base_path = f\"s3://{default_bucket}/{default_prefix}/\"\n",
    "print(smus_base_path)"
   ]
  },
  {
   "cell_type": "code",
   "execution_count": null,
   "id": "34c0eeeb-00c0-4adb-8598-b05d8c63bbeb",
   "metadata": {
    "papermill": {
     "duration": 1.041888,
     "end_time": "2022-07-13T16:07:49.571370",
     "exception": false,
     "start_time": "2022-07-13T16:07:48.529482",
     "status": "completed"
    },
    "pycharm": {
     "name": "#%%\n"
    },
    "tags": []
   },
   "outputs": [],
   "source": [
    "# Download data file from Public S3 bucket\n",
    "\n",
    "local_path = \"data/abalone-dataset.csv\"\n",
    "\n",
    "s3 = boto3.resource(\"s3\")\n",
    "s3.Bucket(f\"sagemaker-sample-files\").download_file(\n",
    "    \"datasets/tabular/uci_abalone/abalone.csv\", local_path\n",
    ")"
   ]
  },
  {
   "cell_type": "code",
   "execution_count": null,
   "id": "6a9634ec-899d-4e74-91a9-46d367d572ef",
   "metadata": {
    "papermill": {
     "duration": 1.041888,
     "end_time": "2022-07-13T16:07:49.571370",
     "exception": false,
     "start_time": "2022-07-13T16:07:48.529482",
     "status": "completed"
    },
    "pycharm": {
     "name": "#%%\n"
    },
    "tags": []
   },
   "outputs": [],
   "source": [
    "# Add Sagemaker Unified Studio default prefix to path\n",
    "\n",
    "base_uri = f\"s3://{default_bucket}/{default_prefix}/abalone\"\n",
    "\n",
    "# Upload file to S3\n",
    "input_data_uri = sagemaker.s3.S3Uploader.upload(\n",
    "    local_path=local_path,\n",
    "    desired_s3_uri=base_uri,\n",
    ")\n",
    "print(input_data_uri)"
   ]
  },
  {
   "cell_type": "markdown",
   "id": "68c6ec51",
   "metadata": {
    "papermill": {
     "duration": 0.033529,
     "end_time": "2022-07-13T16:07:49.637761",
     "exception": false,
     "start_time": "2022-07-13T16:07:49.604232",
     "status": "completed"
    },
    "tags": []
   },
   "source": [
    "모델 생성 후 배치 변환을 위해 두 번째 데이터셋을 다운로드합니다. `batch_data_uri`에 적합한 경우 자체 데이터셋을 선택할 수 있습니다."
   ]
  },
  {
   "cell_type": "code",
   "execution_count": null,
   "id": "c394aaee-6c3e-4781-8346-36cce2746f09",
   "metadata": {
    "papermill": {
     "duration": 0.530874,
     "end_time": "2022-07-13T16:07:50.208271",
     "exception": false,
     "start_time": "2022-07-13T16:07:49.677397",
     "status": "completed"
    },
    "pycharm": {
     "name": "#%%\n"
    },
    "tags": []
   },
   "outputs": [],
   "source": [
    "local_path = \"data/abalone-dataset-batch\"\n",
    "\n",
    "s3.Bucket(f\"sagemaker-servicecatalog-seedcode-{region}\").download_file(\n",
    "    \"dataset/abalone-dataset-batch\", local_path\n",
    ")"
   ]
  },
  {
   "cell_type": "code",
   "execution_count": null,
   "id": "48814c03-0a3d-443d-9e1e-d952777e993a",
   "metadata": {
    "papermill": {
     "duration": 0.530874,
     "end_time": "2022-07-13T16:07:50.208271",
     "exception": false,
     "start_time": "2022-07-13T16:07:49.677397",
     "status": "completed"
    },
    "pycharm": {
     "name": "#%%\n"
    },
    "tags": []
   },
   "outputs": [],
   "source": [
    "# Add Sagemaker Unified Studio default prefix to path\n",
    "\n",
    "# Upload file to S3\n",
    "batch_data_uri = sagemaker.s3.S3Uploader.upload(\n",
    "    local_path=local_path,\n",
    "    desired_s3_uri=base_uri,\n",
    ")\n",
    "print(batch_data_uri)"
   ]
  },
  {
   "cell_type": "markdown",
   "id": "345b427e",
   "metadata": {
    "papermill": {
     "duration": 0.054012,
     "end_time": "2022-07-13T16:07:50.311578",
     "exception": false,
     "start_time": "2022-07-13T16:07:50.257566",
     "status": "completed"
    },
    "tags": []
   },
   "source": [
    "## Define Parameters to Parametrize Pipeline Execution\n",
    "\n",
    "파이프라인 매개변수를 정의하여 파이프라인을 매개변수화할 수 있습니다. 매개변수는 파이프라인 정의를 수정하지 않고도 맞춤형 파이프라인 실행 및 일정을 설정할 수 있도록 합니다.\n",
    "\n",
    "지원되는 매개변수 유형은 다음과 같습니다:\n",
    "\n",
    "* `ParameterString` - Python의 `str` 유형을 나타냅니다\n",
    "* `ParameterInteger` - Python의 `int` 유형을 나타냅니다\n",
    "* `ParameterFloat` - Python의 `float` 유형을 나타냅니다\n",
    "\n",
    "이 매개변수는 기본값을 제공할 수 있으며, 파이프라인 실행 시 이 기본값을 덮어쓸 수 있습니다. 지정된 기본값은 해당 매개변수의 유형의 인스턴스여야 합니다\n",
    "\n",
    "이 워크플로우에서 정의된 매개변수에는 다음과 같은 것이 포함됩니다:\n",
    "\n",
    "* `processing_instance_count` - 처리 작업의 인스턴스 수\n",
    "* `instance_type` - 훈련 작업의 `ml.*` 인스턴스 유형\n",
    "* `model_approval_status` - CI/CD 목적으로 훈련된 모델에 등록할 승인 상태(“PendingManualApproval”이 기본값입니다\n",
    "* `input_data` - 입력 데이터의 S3 버킷 URI 위치\n",
    "* `batch_data` - 배치 데이터의 S3 버킷 URI 위치\n",
    "* `mse_threshold` - 모델의 정확도를 검증하기 위해 사용되는 평균 제곱 오차(MSE) 임계값"
   ]
  },
  {
   "cell_type": "code",
   "execution_count": null,
   "id": "b730dc01",
   "metadata": {
    "papermill": {
     "duration": 0.058807,
     "end_time": "2022-07-13T16:07:50.424032",
     "exception": false,
     "start_time": "2022-07-13T16:07:50.365225",
     "status": "completed"
    },
    "pycharm": {
     "name": "#%%\n"
    },
    "tags": []
   },
   "outputs": [],
   "source": [
    "from sagemaker.workflow.parameters import (\n",
    "    ParameterInteger,\n",
    "    ParameterString,\n",
    "    ParameterFloat,\n",
    ")\n",
    "\n",
    "processing_instance_count = ParameterInteger(name=\"ProcessingInstanceCount\", default_value=1)\n",
    "instance_type = ParameterString(name=\"TrainingInstanceType\", default_value=\"ml.m5.xlarge\")\n",
    "model_approval_status = ParameterString(\n",
    "    name=\"ModelApprovalStatus\", default_value=\"PendingManualApproval\"\n",
    ")\n",
    "input_data = ParameterString(\n",
    "    name=\"InputData\",\n",
    "    default_value=input_data_uri,\n",
    ")\n",
    "batch_data = ParameterString(\n",
    "    name=\"BatchData\",\n",
    "    default_value=batch_data_uri,\n",
    ")\n",
    "mse_threshold = ParameterFloat(name=\"MseThreshold\", default_value=6.0)"
   ]
  },
  {
   "cell_type": "markdown",
   "id": "2113cab9",
   "metadata": {
    "papermill": {
     "duration": 0.061565,
     "end_time": "2022-07-13T16:07:50.532413",
     "exception": false,
     "start_time": "2022-07-13T16:07:50.470848",
     "status": "completed"
    },
    "tags": []
   },
   "source": [
    "![Define Parameters](https://raw.githubusercontent.com/aws/amazon-sagemaker-examples/main/sagemaker-pipelines/tabular/abalone_build_train_deploy/img/pipeline-1.png)"
   ]
  },
  {
   "cell_type": "markdown",
   "id": "8e3822f7",
   "metadata": {},
   "source": []
  },
  {
   "cell_type": "markdown",
   "id": "0279c19d",
   "metadata": {
    "papermill": {
     "duration": 0.034918,
     "end_time": "2022-07-13T16:07:50.601674",
     "exception": false,
     "start_time": "2022-07-13T16:07:50.566756",
     "status": "completed"
    },
    "tags": []
   },
   "source": [
    "## Define a Processing Step for Feature Engineering\n",
    "\n",
    "먼저, Processing 단계에서 지정된 사전 처리 스크립트를 개발합니다.\n",
    "\n",
    "이 노트북 셀은 사전 처리 스크립트를 포함하는 파일 `preprocessing_abalone.py`를 작성합니다. 스크립트를 업데이트한 후 이 셀을 다시 실행하여 덮어쓸 수 있습니다. 사전 처리 스크립트는 `scikit-learn`을 사용하여 다음과 같은 작업을 수행합니다:\n",
    "\n",
    "* 성별 카테고리 데이터의 누락된 값을 채우고 훈련에 적합하도록 인코딩합니다.\n",
    "* 성별 및 고리 수치 데이터를 제외한 모든 수치 필드를 스케일링 및 정규화합니다.\n",
    "* 데이터를 훈련, 검증, 테스트 데이터셋으로 분할합니다.\n",
    "\n",
    "처리 단계는 입력 데이터에 스크립트를 실행합니다. 훈련 단계는 사전 처리된 훈련 특징 및 라벨을 사용하여 모델을 훈련합니다. 평가 단계는 훈련된 모델과 사전 처리된 테스트 특징 및 라벨을 사용하여 모델을 평가합니다."
   ]
  },
  {
   "cell_type": "code",
   "execution_count": null,
   "id": "8b07a322",
   "metadata": {
    "papermill": {
     "duration": 0.19357,
     "end_time": "2022-07-13T16:07:50.827884",
     "exception": false,
     "start_time": "2022-07-13T16:07:50.634314",
     "status": "completed"
    },
    "pycharm": {
     "name": "#%%\n"
    },
    "tags": []
   },
   "outputs": [],
   "source": [
    "!mkdir -p code"
   ]
  },
  {
   "cell_type": "code",
   "execution_count": null,
   "id": "3901891e",
   "metadata": {
    "papermill": {
     "duration": 0.043198,
     "end_time": "2022-07-13T16:07:50.903065",
     "exception": false,
     "start_time": "2022-07-13T16:07:50.859867",
     "status": "completed"
    },
    "pycharm": {
     "name": "#%%\n"
    },
    "tags": []
   },
   "outputs": [],
   "source": [
    "%%writefile code/preprocessing.py\n",
    "import argparse\n",
    "import os\n",
    "import requests\n",
    "import tempfile\n",
    "\n",
    "import numpy as np\n",
    "import pandas as pd\n",
    "\n",
    "from sklearn.compose import ColumnTransformer\n",
    "from sklearn.impute import SimpleImputer\n",
    "from sklearn.pipeline import Pipeline\n",
    "from sklearn.preprocessing import StandardScaler, OneHotEncoder\n",
    "\n",
    "\n",
    "# Since we get a headerless CSV file, we specify the column names here.\n",
    "feature_columns_names = [\n",
    "    \"sex\",\n",
    "    \"length\",\n",
    "    \"diameter\",\n",
    "    \"height\",\n",
    "    \"whole_weight\",\n",
    "    \"shucked_weight\",\n",
    "    \"viscera_weight\",\n",
    "    \"shell_weight\",\n",
    "]\n",
    "label_column = \"rings\"\n",
    "\n",
    "feature_columns_dtype = {\n",
    "    \"sex\": str,\n",
    "    \"length\": np.float64,\n",
    "    \"diameter\": np.float64,\n",
    "    \"height\": np.float64,\n",
    "    \"whole_weight\": np.float64,\n",
    "    \"shucked_weight\": np.float64,\n",
    "    \"viscera_weight\": np.float64,\n",
    "    \"shell_weight\": np.float64,\n",
    "}\n",
    "label_column_dtype = {\"rings\": np.float64}\n",
    "\n",
    "\n",
    "def merge_two_dicts(x, y):\n",
    "    z = x.copy()\n",
    "    z.update(y)\n",
    "    return z\n",
    "\n",
    "\n",
    "if __name__ == \"__main__\":\n",
    "    base_dir = \"/opt/ml/processing\"\n",
    "\n",
    "    df = pd.read_csv(\n",
    "        f\"{base_dir}/input/abalone-dataset.csv\",\n",
    "        header=None,\n",
    "        names=feature_columns_names + [label_column],\n",
    "        dtype=merge_two_dicts(feature_columns_dtype, label_column_dtype),\n",
    "    )\n",
    "    numeric_features = list(feature_columns_names)\n",
    "    numeric_features.remove(\"sex\")\n",
    "    numeric_transformer = Pipeline(\n",
    "        steps=[(\"imputer\", SimpleImputer(strategy=\"median\")), (\"scaler\", StandardScaler())]\n",
    "    )\n",
    "\n",
    "    categorical_features = [\"sex\"]\n",
    "    categorical_transformer = Pipeline(\n",
    "        steps=[\n",
    "            (\"imputer\", SimpleImputer(strategy=\"constant\", fill_value=\"missing\")),\n",
    "            (\"onehot\", OneHotEncoder(handle_unknown=\"ignore\")),\n",
    "        ]\n",
    "    )\n",
    "\n",
    "    preprocess = ColumnTransformer(\n",
    "        transformers=[\n",
    "            (\"num\", numeric_transformer, numeric_features),\n",
    "            (\"cat\", categorical_transformer, categorical_features),\n",
    "        ]\n",
    "    )\n",
    "\n",
    "    y = df.pop(\"rings\")\n",
    "    X_pre = preprocess.fit_transform(df)\n",
    "    y_pre = y.to_numpy().reshape(len(y), 1)\n",
    "\n",
    "    X = np.concatenate((y_pre, X_pre), axis=1)\n",
    "\n",
    "    np.random.shuffle(X)\n",
    "    train, validation, test = np.split(X, [int(0.7 * len(X)), int(0.85 * len(X))])\n",
    "\n",
    "    pd.DataFrame(train).to_csv(f\"{base_dir}/train/train.csv\", header=False, index=False)\n",
    "    pd.DataFrame(validation).to_csv(\n",
    "        f\"{base_dir}/validation/validation.csv\", header=False, index=False\n",
    "    )\n",
    "    pd.DataFrame(test).to_csv(f\"{base_dir}/test/test.csv\", header=False, index=False)"
   ]
  },
  {
   "cell_type": "markdown",
   "id": "753400dc",
   "metadata": {
    "papermill": {
     "duration": 0.03212,
     "end_time": "2022-07-13T16:07:50.967490",
     "exception": false,
     "start_time": "2022-07-13T16:07:50.935370",
     "status": "completed"
    },
    "tags": []
   },
   "source": [
    "다음으로 `SKLearnProcessor` 프로세서의 인스턴스를 생성하고 이를 `ProcessingStep`에서 사용합니다.\n",
    "\n",
    "이 노트북 전체에서 사용할 `framework_version`을 지정합니다.\n",
    "\n",
    "프로세서 인스턴스가 사용하는 `processing_instance_count` 매개변수에 주의하세요."
   ]
  },
  {
   "cell_type": "code",
   "execution_count": null,
   "id": "c3563172",
   "metadata": {
    "papermill": {
     "duration": 0.056125,
     "end_time": "2022-07-13T16:07:51.055993",
     "exception": false,
     "start_time": "2022-07-13T16:07:50.999868",
     "status": "completed"
    },
    "pycharm": {
     "name": "#%%\n"
    },
    "tags": []
   },
   "outputs": [],
   "source": [
    "from sagemaker.sklearn.processing import SKLearnProcessor\n",
    "\n",
    "\n",
    "framework_version = \"0.23-1\"\n",
    "\n",
    "sklearn_processor = SKLearnProcessor(\n",
    "    framework_version=framework_version,\n",
    "    instance_type=\"ml.m5.xlarge\",\n",
    "    instance_count=processing_instance_count,\n",
    "    base_job_name=\"sklearn-abalone-process\",\n",
    "    role=role,\n",
    "    sagemaker_session=pipeline_session,\n",
    ")"
   ]
  },
  {
   "cell_type": "markdown",
   "id": "93a1d463",
   "metadata": {
    "papermill": {
     "duration": 0.032682,
     "end_time": "2022-07-13T16:07:51.121085",
     "exception": false,
     "start_time": "2022-07-13T16:07:51.088403",
     "status": "completed"
    },
    "tags": []
   },
   "source": [
    "마지막으로, 프로세서의 `run` 메서드의 출력을 `ProcessingStep`의 인수로 전달합니다. `pipeline_session`을 `sagemaker_session`에 전달하면, `.run()`을 호출해도 처리 작업이 실행되지 않고, 파이프라인의 단계로 작업을 실행하기 위해 필요한 인수를 반환합니다.\n",
    "\n",
    "처리 작업의 출력 구성에서 지정된 `“train_data”` 및 `“test_data”`라는 이름의 채널에 주의하세요. 단계 `Properties`는 후속 단계에서 사용할 수 있으며, 실행 시점에 해당 런타임 값으로 해결됩니다. 특히 이 사용 방법은 훈련 단계를 정의할 때 명시적으로 언급됩니다."
   ]
  },
  {
   "cell_type": "code",
   "execution_count": null,
   "id": "240281be",
   "metadata": {
    "papermill": {
     "duration": 0.39512,
     "end_time": "2022-07-13T16:07:51.548594",
     "exception": false,
     "start_time": "2022-07-13T16:07:51.153474",
     "status": "completed"
    },
    "pycharm": {
     "name": "#%%\n"
    },
    "tags": []
   },
   "outputs": [],
   "source": [
    "from sagemaker.processing import ProcessingInput, ProcessingOutput\n",
    "from sagemaker.workflow.steps import ProcessingStep\n",
    "\n",
    "processor_args = sklearn_processor.run(\n",
    "    inputs=[\n",
    "        ProcessingInput(source=input_data, destination=\"/opt/ml/processing/input\"),\n",
    "    ],\n",
    "    outputs=[\n",
    "        ProcessingOutput(output_name=\"train\", source=\"/opt/ml/processing/train\"),\n",
    "        ProcessingOutput(output_name=\"validation\", source=\"/opt/ml/processing/validation\"),\n",
    "        ProcessingOutput(output_name=\"test\", source=\"/opt/ml/processing/test\"),\n",
    "    ],\n",
    "    code=\"code/preprocessing.py\",\n",
    ")\n",
    "\n",
    "step_process = ProcessingStep(name=\"AbaloneProcess\", step_args=processor_args)"
   ]
  },
  {
   "cell_type": "markdown",
   "id": "b42f9bb1",
   "metadata": {
    "papermill": {
     "duration": 0.033806,
     "end_time": "2022-07-13T16:07:51.617961",
     "exception": false,
     "start_time": "2022-07-13T16:07:51.584155",
     "status": "completed"
    },
    "tags": []
   },
   "source": [
    "![Define a Processing Step for Feature Engineering](https://raw.githubusercontent.com/aws/amazon-sagemaker-examples/main/sagemaker-pipelines/tabular/abalone_build_train_deploy/img/pipeline-2.png)"
   ]
  },
  {
   "cell_type": "markdown",
   "id": "dc187225",
   "metadata": {
    "papermill": {
     "duration": 0.040739,
     "end_time": "2022-07-13T16:07:51.691562",
     "exception": false,
     "start_time": "2022-07-13T16:07:51.650823",
     "status": "completed"
    },
    "tags": []
   },
   "source": [
    "## 모델을 훈련하기 위해 훈련 단계를 정의합니다.\n",
    "\n",
    "이 섹션에서는 Amazon SageMaker의 [XGBoost 알고리즘](https://docs.aws.amazon.com/sagemaker/latest/dg/xgboost.html)을 사용하여 이 데이터셋으로 모델을 훈련합니다. XGBoost 알고리즘과 입력 데이터셋을 위한 Estimator를 구성합니다. 일반적인 훈련 스크립트는 입력 채널에서 데이터를 로드하고 하이퍼파라미터로 훈련을 구성한 후 모델을 훈련시키고, 나중에 호스팅할 수 있도록 모델을 `model_dir`에 저장합니다.\n",
    "\n",
    "훈련에서 생성된 모델이 저장되는 모델 경로도 지정됩니다.\n",
    "\n",
    "참고: `instance_type` 매개변수는 파이프라인의 여러 곳에서 사용될 수 있습니다. 이 경우 `instance_type`은 Estimator에 전달됩니다."
   ]
  },
  {
   "cell_type": "code",
   "execution_count": null,
   "id": "7407bef6",
   "metadata": {
    "papermill": {
     "duration": 0.171801,
     "end_time": "2022-07-13T16:07:51.897137",
     "exception": false,
     "start_time": "2022-07-13T16:07:51.725336",
     "status": "completed"
    },
    "pycharm": {
     "name": "#%%\n"
    },
    "tags": []
   },
   "outputs": [],
   "source": [
    "from sagemaker.estimator import Estimator\n",
    "from sagemaker.inputs import TrainingInput\n",
    "\n",
    "model_path = f\"s3://{default_bucket}/{default_prefix}/AbaloneTrain\"\n",
    "\n",
    "image_uri = sagemaker.image_uris.retrieve(\n",
    "    framework=\"xgboost\",\n",
    "    region=region,\n",
    "    version=\"1.0-1\",\n",
    "    py_version=\"py3\",\n",
    "    instance_type=\"ml.m5.xlarge\",\n",
    ")\n",
    "xgb_train = Estimator(\n",
    "    image_uri=image_uri,\n",
    "    instance_type=instance_type,\n",
    "    instance_count=1,\n",
    "    output_path=model_path,\n",
    "    role=role,\n",
    "    sagemaker_session=pipeline_session,\n",
    ")\n",
    "xgb_train.set_hyperparameters(\n",
    "    objective=\"reg:linear\",\n",
    "    num_round=50,\n",
    "    max_depth=5,\n",
    "    eta=0.2,\n",
    "    gamma=4,\n",
    "    min_child_weight=6,\n",
    "    subsample=0.7,\n",
    ")\n",
    "\n",
    "train_args = xgb_train.fit(\n",
    "    inputs={\n",
    "        \"train\": TrainingInput(\n",
    "            s3_data=step_process.properties.ProcessingOutputConfig.Outputs[\"train\"].S3Output.S3Uri,\n",
    "            content_type=\"text/csv\",\n",
    "        ),\n",
    "        \"validation\": TrainingInput(\n",
    "            s3_data=step_process.properties.ProcessingOutputConfig.Outputs[\n",
    "                \"validation\"\n",
    "            ].S3Output.S3Uri,\n",
    "            content_type=\"text/csv\",\n",
    "        ),\n",
    "    }\n",
    ")"
   ]
  },
  {
   "cell_type": "markdown",
   "id": "f86374ad",
   "metadata": {
    "papermill": {
     "duration": 0.064705,
     "end_time": "2022-07-13T16:07:51.995767",
     "exception": false,
     "start_time": "2022-07-13T16:07:51.931062",
     "status": "completed"
    },
    "tags": []
   },
   "source": [
    "Finally, we use the output of the estimator's `.fit()` method as arguments to the `TrainingStep`. By passing the `pipeline_session` to the `sagemaker_session`, calling `.fit()` does not launch the training job, it returns the arguments needed to run the job as a step in the pipeline.\n",
    "\n",
    "Pass in the `S3Uri` of the `\"train_data\"` output channel to the `.fit()` method. Also, use the other `\"test_data\"` output channel for model evaluation in the pipeline. The `properties` attribute of a Pipeline step matches the object model of the corresponding response of a describe call. These properties can be referenced as placeholder values and are resolved at runtime. For example, the `ProcessingStep` `properties` attribute matches the object model of the [DescribeProcessingJob](https://docs.aws.amazon.com/sagemaker/latest/APIReference/API_DescribeProcessingJob.html) response object."
   ]
  },
  {
   "cell_type": "code",
   "execution_count": null,
   "id": "724d8eef",
   "metadata": {
    "papermill": {
     "duration": 0.103611,
     "end_time": "2022-07-13T16:07:52.196480",
     "exception": false,
     "start_time": "2022-07-13T16:07:52.092869",
     "status": "completed"
    },
    "pycharm": {
     "name": "#%%\n"
    },
    "tags": []
   },
   "outputs": [],
   "source": [
    "from sagemaker.inputs import TrainingInput\n",
    "from sagemaker.workflow.steps import TrainingStep\n",
    "\n",
    "\n",
    "step_train = TrainingStep(\n",
    "    name=\"AbaloneTrain\",\n",
    "    step_args=train_args,\n",
    ")"
   ]
  },
  {
   "cell_type": "markdown",
   "id": "61d7285f",
   "metadata": {
    "papermill": {
     "duration": 0.097979,
     "end_time": "2022-07-13T16:07:52.392020",
     "exception": false,
     "start_time": "2022-07-13T16:07:52.294041",
     "status": "completed"
    },
    "tags": []
   },
   "source": [
    "![Define a Training Step to Train a Model](https://raw.githubusercontent.com/aws/amazon-sagemaker-examples/main/sagemaker-pipelines/tabular/abalone_build_train_deploy/img/pipeline-3.png)"
   ]
  },
  {
   "cell_type": "markdown",
   "id": "fd58bfa7",
   "metadata": {
    "papermill": {
     "duration": 0.097153,
     "end_time": "2022-07-13T16:07:52.586494",
     "exception": false,
     "start_time": "2022-07-13T16:07:52.489341",
     "status": "completed"
    },
    "tags": []
   },
   "source": [
    "## 모델 평가 단계를 정의하여 훈련된 모델을 평가합니다\n",
    "\n",
    "먼저, 모델 평가를 수행하는 Processing 단계에 지정된 평가 스크립트를 작성합니다.\n",
    "\n",
    "파이프라인 실행 후, 분석을 위해 생성된 `evaluation.json` 파일을 확인할 수 있습니다.\n",
    "\n",
    "평가 스크립트는 `xgboost`를 사용하여 다음과 같은 작업을 수행합니다:\n",
    "\n",
    "* 모델을 로드합니다.\n",
    "* 테스트 데이터를 읽습니다.\n",
    "* 테스트 데이터에 대한 예측을 수행합니다.\n",
    "* 정확도와 ROC 곡선을 포함한 분류 보고서를 생성합니다.\n",
    "* 평가 보고서를 평가 디렉토리에 저장합니다."
   ]
  },
  {
   "cell_type": "code",
   "execution_count": null,
   "id": "a03a42f2",
   "metadata": {
    "papermill": {
     "duration": 0.184948,
     "end_time": "2022-07-13T16:07:52.869516",
     "exception": false,
     "start_time": "2022-07-13T16:07:52.684568",
     "status": "completed"
    },
    "pycharm": {
     "name": "#%%\n"
    },
    "tags": []
   },
   "outputs": [],
   "source": [
    "%%writefile code/evaluation.py\n",
    "import json\n",
    "import pathlib\n",
    "import pickle\n",
    "import tarfile\n",
    "\n",
    "import joblib\n",
    "import numpy as np\n",
    "import pandas as pd\n",
    "import xgboost\n",
    "\n",
    "from sklearn.metrics import mean_squared_error\n",
    "\n",
    "\n",
    "if __name__ == \"__main__\":\n",
    "    model_path = f\"/opt/ml/processing/model/model.tar.gz\"\n",
    "    with tarfile.open(model_path) as tar:\n",
    "        tar.extractall(path=\".\")\n",
    "\n",
    "    model = pickle.load(open(\"xgboost-model\", \"rb\"))\n",
    "\n",
    "    test_path = \"/opt/ml/processing/test/test.csv\"\n",
    "    df = pd.read_csv(test_path, header=None)\n",
    "\n",
    "    y_test = df.iloc[:, 0].to_numpy()\n",
    "    df.drop(df.columns[0], axis=1, inplace=True)\n",
    "\n",
    "    X_test = xgboost.DMatrix(df.values)\n",
    "\n",
    "    predictions = model.predict(X_test)\n",
    "\n",
    "    mse = mean_squared_error(y_test, predictions)\n",
    "    std = np.std(y_test - predictions)\n",
    "    report_dict = {\n",
    "        \"regression_metrics\": {\n",
    "            \"mse\": {\"value\": mse, \"standard_deviation\": std},\n",
    "        },\n",
    "    }\n",
    "\n",
    "    output_dir = \"/opt/ml/processing/evaluation\"\n",
    "    pathlib.Path(output_dir).mkdir(parents=True, exist_ok=True)\n",
    "\n",
    "    evaluation_path = f\"{output_dir}/evaluation.json\"\n",
    "    with open(evaluation_path, \"w\") as f:\n",
    "        f.write(json.dumps(report_dict))"
   ]
  },
  {
   "cell_type": "markdown",
   "id": "3db80eee",
   "metadata": {
    "papermill": {
     "duration": 0.033789,
     "end_time": "2022-07-13T16:07:52.999885",
     "exception": false,
     "start_time": "2022-07-13T16:07:52.966096",
     "status": "completed"
    },
    "tags": []
   },
   "source": [
    "다음으로 `ScriptProcessor` 프로세서의 인스턴스를 생성하고 이를 `ProcessingStep`에서 사용합니다."
   ]
  },
  {
   "cell_type": "code",
   "execution_count": null,
   "id": "53230930",
   "metadata": {
    "papermill": {
     "duration": 0.242851,
     "end_time": "2022-07-13T16:07:53.339481",
     "exception": false,
     "start_time": "2022-07-13T16:07:53.096630",
     "status": "completed"
    },
    "pycharm": {
     "name": "#%%\n"
    },
    "tags": []
   },
   "outputs": [],
   "source": [
    "from sagemaker.processing import ScriptProcessor\n",
    "\n",
    "\n",
    "script_eval = ScriptProcessor(\n",
    "    image_uri=image_uri,\n",
    "    command=[\"python3\"],\n",
    "    instance_type=\"ml.m5.xlarge\",\n",
    "    instance_count=1,\n",
    "    base_job_name=\"script-abalone-eval\",\n",
    "    role=role,\n",
    "    sagemaker_session=pipeline_session,\n",
    ")\n",
    "\n",
    "eval_args = script_eval.run(\n",
    "    inputs=[\n",
    "        ProcessingInput(\n",
    "            source=step_train.properties.ModelArtifacts.S3ModelArtifacts,\n",
    "            destination=\"/opt/ml/processing/model\",\n",
    "        ),\n",
    "        ProcessingInput(\n",
    "            source=step_process.properties.ProcessingOutputConfig.Outputs[\"test\"].S3Output.S3Uri,\n",
    "            destination=\"/opt/ml/processing/test\",\n",
    "        ),\n",
    "    ],\n",
    "    outputs=[\n",
    "        ProcessingOutput(output_name=\"evaluation\", source=\"/opt/ml/processing/evaluation\"),\n",
    "    ],\n",
    "    code=\"code/evaluation.py\",\n",
    ")"
   ]
  },
  {
   "cell_type": "markdown",
   "id": "858206cd",
   "metadata": {
    "papermill": {
     "duration": 0.097754,
     "end_time": "2022-07-13T16:07:53.494882",
     "exception": false,
     "start_time": "2022-07-13T16:07:53.397128",
     "status": "completed"
    },
    "tags": []
   },
   "source": [
    "`.run()` 메서드에서 반환된 프로세서 인수를 사용하여 `ProcessingStep`을 생성하고, 입력 및 출력 채널과 파이프라인이 파이프라인 실행을 호출할 때 실행될 코드를 포함합니다.\n",
    "\n",
    "구체적으로, `step_train` `properties`의 `S3ModelArtifacts`와 `step_process` `properties`의 `“test_data”` 출력 채널의 `S3Uri`가 입력으로 전달됩니다. `TrainingStep` 및 `ProcessingStep`의 `properties` 속성은 [DescribeTrainingJob](https://docs.aws.amazon.com/sagemaker/latest/APIReference/API_DescribeTrainingJob.html) 및 [DescribeProcessingJob](https://docs.aws.amazon.com/sagemaker/latest/APIReference/API_DescribeProcessingJob.html) 응답 객체의 객체 모델과 각각 일치합니다."
   ]
  },
  {
   "cell_type": "code",
   "execution_count": null,
   "id": "ae643d67",
   "metadata": {
    "papermill": {
     "duration": 0.104102,
     "end_time": "2022-07-13T16:07:53.696669",
     "exception": false,
     "start_time": "2022-07-13T16:07:53.592567",
     "status": "completed"
    },
    "pycharm": {
     "name": "#%%\n"
    },
    "tags": []
   },
   "outputs": [],
   "source": [
    "from sagemaker.workflow.properties import PropertyFile\n",
    "\n",
    "\n",
    "evaluation_report = PropertyFile(\n",
    "    name=\"EvaluationReport\", output_name=\"evaluation\", path=\"evaluation.json\"\n",
    ")\n",
    "step_eval = ProcessingStep(\n",
    "    name=\"AbaloneEval\",\n",
    "    step_args=eval_args,\n",
    "    property_files=[evaluation_report],\n",
    ")"
   ]
  },
  {
   "cell_type": "markdown",
   "id": "99f1a3c2",
   "metadata": {
    "papermill": {
     "duration": 0.096611,
     "end_time": "2022-07-13T16:07:53.966367",
     "exception": false,
     "start_time": "2022-07-13T16:07:53.869756",
     "status": "completed"
    },
    "tags": []
   },
   "source": [
    "![Define a Model Evaluation Step to Evaluate the Trained Model](https://raw.githubusercontent.com/aws/amazon-sagemaker-examples/main/sagemaker-pipelines/tabular/abalone_build_train_deploy/img/pipeline-4.png)"
   ]
  },
  {
   "cell_type": "markdown",
   "id": "1ff0a560",
   "metadata": {
    "papermill": {
     "duration": 0.097005,
     "end_time": "2022-07-13T16:07:54.096931",
     "exception": false,
     "start_time": "2022-07-13T16:07:53.999926",
     "status": "completed"
    },
    "tags": []
   },
   "source": [
    "## 모델 생성 단계 정의하여 모델 생성\n",
    "\n",
    "예제 모델을 사용하여 배치 변환을 수행하려면 SageMaker 모델을 생성합니다.\n",
    "\n",
    "구체적으로, `TrainingStep`의 `step_train` 속성에서 `S3ModelArtifacts`를 전달합니다. `TrainingStep`의 `properties` 속성은 [DescribeTrainingJob](https://docs.aws.amazon.com/sagemaker/latest/APIReference/API_DescribeTrainingJob.html) 응답 객체의 객체 모델과 일치합니다."
   ]
  },
  {
   "cell_type": "code",
   "execution_count": null,
   "id": "6aab382f",
   "metadata": {
    "papermill": {
     "duration": 0.103791,
     "end_time": "2022-07-13T16:07:54.293572",
     "exception": false,
     "start_time": "2022-07-13T16:07:54.189781",
     "status": "completed"
    },
    "pycharm": {
     "name": "#%%\n"
    },
    "tags": []
   },
   "outputs": [],
   "source": [
    "from sagemaker.model import Model\n",
    "\n",
    "model = Model(\n",
    "    image_uri=image_uri,\n",
    "    model_data=step_train.properties.ModelArtifacts.S3ModelArtifacts,\n",
    "    sagemaker_session=pipeline_session,\n",
    "    role=role,\n",
    ")"
   ]
  },
  {
   "cell_type": "markdown",
   "id": "d9be254b",
   "metadata": {
    "papermill": {
     "duration": 0.099816,
     "end_time": "2022-07-13T16:07:54.490471",
     "exception": false,
     "start_time": "2022-07-13T16:07:54.390655",
     "status": "completed"
    },
    "tags": []
   },
   "source": [
    "`ModelStep`을 정의하려면 `model.create()`의 반환 값을 단계 인수로 제공하십시오."
   ]
  },
  {
   "cell_type": "code",
   "execution_count": null,
   "id": "7a8dc222",
   "metadata": {
    "papermill": {
     "duration": 0.106688,
     "end_time": "2022-07-13T16:07:54.694631",
     "exception": false,
     "start_time": "2022-07-13T16:07:54.587943",
     "status": "completed"
    },
    "pycharm": {
     "name": "#%%\n"
    },
    "tags": []
   },
   "outputs": [],
   "source": [
    "from sagemaker.inputs import CreateModelInput\n",
    "from sagemaker.workflow.model_step import ModelStep\n",
    "\n",
    "step_create_model = ModelStep(\n",
    "    name=\"AbaloneCreateModel\",\n",
    "    step_args=model.create(instance_type=\"ml.m5.large\", accelerator_type=\"ml.eia1.medium\"),\n",
    ")"
   ]
  },
  {
   "cell_type": "markdown",
   "id": "c26c7052",
   "metadata": {
    "papermill": {
     "duration": 0.092854,
     "end_time": "2022-07-13T16:07:54.964979",
     "exception": false,
     "start_time": "2022-07-13T16:07:54.872125",
     "status": "completed"
    },
    "tags": []
   },
   "source": [
    "## 배치 변환을 수행하기 위해 변환 단계를 정의합니다.\n",
    "\n",
    "모델 인스턴스가 정의되었으므로 적절한 모델 유형, 컴퓨팅 인스턴스 유형 및 원하는 출력 S3 URI를 사용하여 `Transformer` 인스턴스를 생성합니다.\n",
    "\n",
    "구체적으로, `CreateModelStep`의 `step_create_model` 속성에서 `ModelName`을 전달합니다. `CreateModelStep`의 `properties` 속성은 [DescribeModel](https://docs.aws.amazon.com/sagemaker/latest/APIReference/API_DescribeModel.html) 응답 객체의 객체 모델과 일치합니다."
   ]
  },
  {
   "cell_type": "code",
   "execution_count": null,
   "id": "f55318d8",
   "metadata": {
    "papermill": {
     "duration": 0.177212,
     "end_time": "2022-07-13T16:07:55.176173",
     "exception": false,
     "start_time": "2022-07-13T16:07:54.998961",
     "status": "completed"
    },
    "pycharm": {
     "name": "#%%\n"
    },
    "tags": []
   },
   "outputs": [],
   "source": [
    "from sagemaker.transformer import Transformer\n",
    "\n",
    "\n",
    "transformer = Transformer(\n",
    "    model_name=step_create_model.properties.ModelName,\n",
    "    instance_type=\"ml.m5.xlarge\",\n",
    "    instance_count=1,\n",
    "    output_path=f\"s3://{default_bucket}/{default_prefix}/AbaloneTransform\",\n",
    ")"
   ]
  },
  {
   "cell_type": "markdown",
   "id": "6227a29a",
   "metadata": {
    "papermill": {
     "duration": 0.102855,
     "end_time": "2022-07-13T16:07:55.376256",
     "exception": false,
     "start_time": "2022-07-13T16:07:55.273401",
     "status": "completed"
    },
    "tags": []
   },
   "source": [
    "transformer 인스턴스와 이전에 정의된 `batch_data` 파이프라인 매개변수와 함께 `TransformInput`을 전달합니다."
   ]
  },
  {
   "cell_type": "code",
   "execution_count": null,
   "id": "6e1aa0ad",
   "metadata": {
    "papermill": {
     "duration": 0.110305,
     "end_time": "2022-07-13T16:07:55.580011",
     "exception": false,
     "start_time": "2022-07-13T16:07:55.469706",
     "status": "completed"
    },
    "pycharm": {
     "name": "#%%\n"
    },
    "tags": []
   },
   "outputs": [],
   "source": [
    "from sagemaker.inputs import TransformInput\n",
    "from sagemaker.workflow.steps import TransformStep\n",
    "\n",
    "\n",
    "step_transform = TransformStep(\n",
    "    name=\"AbaloneTransform\", transformer=transformer, inputs=TransformInput(data=batch_data)\n",
    ")"
   ]
  },
  {
   "cell_type": "markdown",
   "id": "e400b0f0",
   "metadata": {
    "papermill": {
     "duration": 0.097293,
     "end_time": "2022-07-13T16:07:55.779132",
     "exception": false,
     "start_time": "2022-07-13T16:07:55.681839",
     "status": "completed"
    },
    "tags": []
   },
   "source": [
    "## 모델 패키지를 생성하기 위해 등록 모델 단계를 정의합니다\n",
    "\n",
    "모델 패키지는 추론에 필요한 모든 구성 요소를 포함하는 재사용 가능한 모델 아티팩트의 추상화입니다. 주로 추론에 사용할 추론 이미지를 정의하는 추론 사양과 선택적 모델 가중치 위치로 구성됩니다.\n",
    "\n",
    "모델 패키지 그룹은 모델 패키지의 집합입니다. 특정 머신러닝 비즈니스 문제에 대해 모델 패키지 그룹을 생성할 수 있으며, 새로운 버전의 모델 패키지를 해당 그룹에 추가할 수 있습니다. 일반적으로 고객은 SageMaker 파이프라인을 위해 ModelPackageGroup을 생성하여 각 SageMaker 파이프라인 실행 시 모델 패키지 버전을 그룹에 추가할 수 있도록 합니다.\n",
    "\n",
    "모델 레지스트리에 모델을 등록하려면 이전 단계에서 생성한 모델을 사용합니다\n",
    "```\n",
    "model = Model(\n",
    "    image_uri=image_uri,\n",
    "    model_data=step_train.properties.ModelArtifacts.S3ModelArtifacts,\n",
    "    sagemaker_session=pipeline_session,\n",
    "    role=role,\n",
    ")\n",
    "```\n",
    "그리고 모델 등록에 필요한 모든 매개변수를 전달하여 `.register()` 함수를 호출합니다.\n",
    "\n",
    "`.register()` 호출의 출력을 가져와서 `ModelStep`의 단계 인수로 전달합니다."
   ]
  },
  {
   "cell_type": "code",
   "execution_count": null,
   "id": "49268979",
   "metadata": {
    "papermill": {
     "duration": 0.106521,
     "end_time": "2022-07-13T16:07:55.991800",
     "exception": false,
     "start_time": "2022-07-13T16:07:55.885279",
     "status": "completed"
    },
    "pycharm": {
     "name": "#%%\n"
    },
    "tags": []
   },
   "outputs": [],
   "source": [
    "from sagemaker.model_metrics import MetricsSource, ModelMetrics\n",
    "\n",
    "model_metrics = ModelMetrics(\n",
    "    model_statistics=MetricsSource(\n",
    "        s3_uri=\"{}/evaluation.json\".format(\n",
    "            step_eval.arguments[\"ProcessingOutputConfig\"][\"Outputs\"][0][\"S3Output\"][\"S3Uri\"]\n",
    "        ),\n",
    "        content_type=\"application/json\",\n",
    "    )\n",
    ")\n",
    "\n",
    "register_args = model.register(\n",
    "    content_types=[\"text/csv\"],\n",
    "    response_types=[\"text/csv\"],\n",
    "    inference_instances=[\"ml.t2.medium\", \"ml.m5.xlarge\"],\n",
    "    transform_instances=[\"ml.m5.xlarge\"],\n",
    "    model_package_group_name=model_package_group_name,\n",
    "    approval_status=model_approval_status,\n",
    "    model_metrics=model_metrics,\n",
    ")\n",
    "step_register = ModelStep(name=\"AbaloneRegisterModel\", step_args=register_args)"
   ]
  },
  {
   "cell_type": "markdown",
   "id": "d1622708",
   "metadata": {
    "papermill": {
     "duration": 0.093149,
     "end_time": "2022-07-13T16:07:56.186199",
     "exception": false,
     "start_time": "2022-07-13T16:07:56.093050",
     "status": "completed"
    },
    "tags": []
   },
   "source": [
    "![Define a Create Model Step and Batch Transform to Process Data in Batch at Scale](https://raw.githubusercontent.com/aws/amazon-sagemaker-examples/main/sagemaker-pipelines/tabular/abalone_build_train_deploy/img/pipeline-5.png)"
   ]
  },
  {
   "cell_type": "markdown",
   "id": "756157c0",
   "metadata": {
    "papermill": {
     "duration": 0.097569,
     "end_time": "2022-07-13T16:07:56.381372",
     "exception": false,
     "start_time": "2022-07-13T16:07:56.283803",
     "status": "completed"
    },
    "tags": []
   },
   "source": [
    "\n",
    "## 파이프라인 실행을 종료하고 실패로 표시하기 위해 Fail Step 정의\n",
    "\n",
    "이 섹션에서는 다음 단계를 안내합니다:\n",
    "\n",
    "* 사용자 정의 오류 메시지를 포함한 `FailStep`을 정의하여 실행 실패의 원인을 표시합니다.\n",
    "* `Join` 함수를 사용하여 `FailStep` 오류 메시지에 동적 `mse_threshold` 매개변수와 정적 텍스트 문자열을 결합하여 더 자세한 오류 메시지를 생성합니다."
   ]
  },
  {
   "cell_type": "code",
   "execution_count": null,
   "id": "f041c8a8",
   "metadata": {
    "papermill": {
     "duration": 0.193196,
     "end_time": "2022-07-13T16:07:56.675378",
     "exception": false,
     "start_time": "2022-07-13T16:07:56.482182",
     "status": "completed"
    },
    "pycharm": {
     "name": "#%%\n"
    },
    "tags": []
   },
   "outputs": [],
   "source": [
    "from sagemaker.workflow.fail_step import FailStep\n",
    "from sagemaker.workflow.functions import Join\n",
    "\n",
    "step_fail = FailStep(\n",
    "    name=\"AbaloneMSEFail\",\n",
    "    error_message=Join(on=\" \", values=[\"Execution failed due to MSE >\", mse_threshold]),\n",
    ")"
   ]
  },
  {
   "cell_type": "markdown",
   "id": "8fcf7e9c",
   "metadata": {
    "papermill": {
     "duration": 0.182821,
     "end_time": "2022-07-13T16:07:56.967379",
     "exception": false,
     "start_time": "2022-07-13T16:07:56.784558",
     "status": "completed"
    },
    "tags": []
   },
   "source": [
    "![Define a Fail Step to Terminate the Execution in Failed State](https://raw.githubusercontent.com/aws/amazon-sagemaker-examples/main/sagemaker-pipelines/tabular/abalone_build_train_deploy/img/pipeline-8.png)"
   ]
  },
  {
   "cell_type": "markdown",
   "id": "fd777542",
   "metadata": {
    "papermill": {
     "duration": 0.034317,
     "end_time": "2022-07-13T16:07:57.099302",
     "exception": false,
     "start_time": "2022-07-13T16:07:57.064985",
     "status": "completed"
    },
    "tags": []
   },
   "source": [
    "## 조건 단계 정의: 정확도 확인 및 조건에 따라 모델 생성, 배치 변환 실행, 모델 레지스트리에 모델 등록 또는 실패 상태에서 실행 종료\n",
    "\n",
    "이 단계에서 모델은 평가 단계 `step_eval`을 통해 결정된 모델의 정확도가 지정된 값을 초과한 경우에만 등록됩니다. 그렇지 않으면 파이프라인 실행이 실패하고 종료됩니다. `ConditionStep`은 단계 속성의 조건에 따라 파이프라인 DAG에서 조건부 실행을 지원하도록 파이프라인을 구성할 수 있습니다.\n",
    "\n",
    "다음 섹션에서 다음과 같이 수행합니다:\n",
    "\n",
    "* 평가 단계 `step_eval`의 출력에서 발견된 정확도 값에 대해 `ConditionLessThanOrEqualTo`를 정의합니다.\n",
    "* 조건을 `ConditionStep`의 조건 목록에 사용합니다.\n",
    "* `CreateModelStep` 및 `TransformStep` 단계와 `RegisterModel` 단계 컬렉션을 `ConditionStep`의 `if_steps`에 전달합니다. 이 단계들은 조건이 `True`로 평가될 경우에만 실행됩니다.\n",
    "* `FailStep` 단계를 `ConditionStep`의 `else_steps`에 전달합니다. 이 단계는 조건이 `False`로 평가될 경우에만 실행됩니다."
   ]
  },
  {
   "cell_type": "code",
   "execution_count": null,
   "id": "8969e1fc",
   "metadata": {
    "papermill": {
     "duration": 0.171087,
     "end_time": "2022-07-13T16:07:57.368032",
     "exception": false,
     "start_time": "2022-07-13T16:07:57.196945",
     "status": "completed"
    },
    "pycharm": {
     "name": "#%%\n"
    },
    "tags": []
   },
   "outputs": [],
   "source": [
    "from sagemaker.workflow.conditions import ConditionLessThanOrEqualTo\n",
    "from sagemaker.workflow.condition_step import ConditionStep\n",
    "from sagemaker.workflow.functions import JsonGet\n",
    "\n",
    "\n",
    "cond_lte = ConditionLessThanOrEqualTo(\n",
    "    left=JsonGet(\n",
    "        step_name=step_eval.name,\n",
    "        property_file=evaluation_report,\n",
    "        json_path=\"regression_metrics.mse.value\",\n",
    "    ),\n",
    "    right=mse_threshold,\n",
    ")\n",
    "\n",
    "step_cond = ConditionStep(\n",
    "    name=\"AbaloneMSECond\",\n",
    "    conditions=[cond_lte],\n",
    "    if_steps=[step_register, step_create_model, step_transform],\n",
    "    else_steps=[step_fail],\n",
    ")"
   ]
  },
  {
   "cell_type": "markdown",
   "id": "772154ec",
   "metadata": {
    "papermill": {
     "duration": 0.098709,
     "end_time": "2022-07-13T16:07:57.564590",
     "exception": false,
     "start_time": "2022-07-13T16:07:57.465881",
     "status": "completed"
    },
    "tags": []
   },
   "source": [
    "![Define a Condition Step to Check Accuracy and Conditionally Execute Steps](https://raw.githubusercontent.com/aws/amazon-sagemaker-examples/main/sagemaker-pipelines/tabular/abalone_build_train_deploy/img/pipeline-6.png)"
   ]
  },
  {
   "cell_type": "markdown",
   "id": "5cd8a7d1",
   "metadata": {
    "papermill": {
     "duration": 0.097983,
     "end_time": "2022-07-13T16:07:57.697262",
     "exception": false,
     "start_time": "2022-07-13T16:07:57.599279",
     "status": "completed"
    },
    "tags": []
   },
   "source": [
    "## 매개변수, 단계, 및 조건의 파이프라인 정의\n",
    "\n",
    "이 섹션에서는 단계를 파이프라인으로 결합하여 실행할 수 있도록 합니다.\n",
    "\n",
    "파이프라인에는 `name`, `parameters`, 및 `steps`가 필요합니다. name은 `(account, region)` 쌍 내에서 고유해야 합니다.\n",
    "\n",
    "참고:\n",
    "\n",
    "* 정의에 사용된 모든 매개변수는 반드시 포함되어야 합니다.\n",
    "* 파이프라인에 전달된 단계는 실행 순서대로 나열될 필요가 없습니다. SageMaker Pipeline 서비스는 데이터 의존성 DAG를 단계로 해결하여 실행을 완료합니다.\n",
    "* 단계는 파이프라인 단계 목록 및 모든 조건 단계의 if/else 목록 전체에서 고유해야 합니다."
   ]
  },
  {
   "cell_type": "code",
   "execution_count": null,
   "id": "9ed7ea0f",
   "metadata": {
    "papermill": {
     "duration": 0.201248,
     "end_time": "2022-07-13T16:07:57.996214",
     "exception": false,
     "start_time": "2022-07-13T16:07:57.794966",
     "status": "completed"
    },
    "pycharm": {
     "name": "#%%\n"
    },
    "tags": []
   },
   "outputs": [],
   "source": [
    "from sagemaker.workflow.pipeline import Pipeline\n",
    "\n",
    "\n",
    "pipeline_name = f\"AbalonePipeline-v1\"\n",
    "pipeline = Pipeline(\n",
    "    name=pipeline_name,\n",
    "    parameters=[\n",
    "        processing_instance_count,\n",
    "        instance_type,\n",
    "        model_approval_status,\n",
    "        input_data,\n",
    "        batch_data,\n",
    "        mse_threshold,\n",
    "    ],\n",
    "    steps=[step_process, step_train, step_eval, step_cond],\n",
    ")"
   ]
  },
  {
   "cell_type": "markdown",
   "id": "8bd7778c",
   "metadata": {
    "papermill": {
     "duration": 0.098305,
     "end_time": "2022-07-13T16:07:58.192290",
     "exception": false,
     "start_time": "2022-07-13T16:07:58.093985",
     "status": "completed"
    },
    "tags": []
   },
   "source": [
    "![Define a Pipeline of Parameters, Steps, and Conditions](https://raw.githubusercontent.com/aws/amazon-sagemaker-examples/main/sagemaker-pipelines/tabular/abalone_build_train_deploy/img/pipeline-7.png)"
   ]
  },
  {
   "cell_type": "markdown",
   "id": "bc3f8219",
   "metadata": {},
   "source": [
    "## 파이프라인을 SageMaker에 제출하고 실행을 시작합니다\n",
    "\n",
    "파이프라인 정의를 파이프라인 서비스에 제출합니다. 파이프라인 서비스는 전달된 역할을 사용하여 단계에 정의된 모든 작업을 생성합니다."
   ]
  },
  {
   "cell_type": "code",
   "execution_count": null,
   "id": "0d8d16e8",
   "metadata": {},
   "outputs": [],
   "source": [
    "pipeline.upsert(role_arn=role)\n",
    "\n",
    "# Create and Add Tags to Pipeline\n",
    "#pipeline.upsert(role_arn=role, tags = [tag_dz_env, tag_dz_project, tag_dz_domain, tag_dz_scope])"
   ]
  },
  {
   "cell_type": "markdown",
   "id": "b9cc335f",
   "metadata": {},
   "source": [
    "파이프라인을 시작하고 모든 기본 매개변수를 적용합니다."
   ]
  },
  {
   "cell_type": "code",
   "execution_count": null,
   "id": "1106fe42",
   "metadata": {},
   "outputs": [],
   "source": [
    "execution = pipeline.start()"
   ]
  },
  {
   "cell_type": "markdown",
   "id": "442f9d2d",
   "metadata": {},
   "source": [
    "## Pipeline Operations: Examining and Waiting for Pipeline Execution\n",
    "\n",
    "파이프라인 실행을 설명합니다."
   ]
  },
  {
   "cell_type": "code",
   "execution_count": null,
   "id": "d78ebd6d",
   "metadata": {},
   "outputs": [],
   "source": [
    "execution.describe()"
   ]
  },
  {
   "cell_type": "markdown",
   "id": "5f2bccb2",
   "metadata": {},
   "source": [
    "실행이 완료될 때까지 기다리십시오. "
   ]
  },
  {
   "cell_type": "code",
   "execution_count": null,
   "id": "630ddedb",
   "metadata": {},
   "outputs": [],
   "source": [
    "execution.wait()"
   ]
  },
  {
   "cell_type": "markdown",
   "id": "3bdd9388",
   "metadata": {},
   "source": [
    "행 단계 목록을 표시합니다. 이는 단계 실행 서비스에 의해 해결된 파이프라인의 단계입니다."
   ]
  },
  {
   "cell_type": "code",
   "execution_count": null,
   "id": "1193d500",
   "metadata": {},
   "outputs": [],
   "source": [
    "execution.list_steps()"
   ]
  },
  {
   "cell_type": "markdown",
   "id": "0fa6cddc",
   "metadata": {},
   "source": [
    "### 평가 검토\n",
    "\n",
    "파이프라인이 완료된 후 생성된 모델 평가 결과를 검토합니다. S3에서 생성된 `evaluation.json` 파일을 다운로드하고 보고서를 출력합니다."
   ]
  },
  {
   "cell_type": "code",
   "execution_count": null,
   "id": "f895a82e",
   "metadata": {},
   "outputs": [],
   "source": [
    "from pprint import pprint\n",
    "\n",
    "\n",
    "evaluation_json = sagemaker.s3.S3Downloader.read_file(\n",
    "    \"{}/evaluation.json\".format(\n",
    "        step_eval.arguments[\"ProcessingOutputConfig\"][\"Outputs\"][0][\"S3Output\"][\"S3Uri\"]\n",
    "    )\n",
    ")\n",
    "pprint(json.loads(evaluation_json))"
   ]
  }
 ],
 "metadata": {
  "instance_type": "ml.t3.medium",
  "kernelspec": {
   "display_name": "Python 3 (ipykernel)",
   "language": "python",
   "name": "python3"
  },
  "language_info": {
   "codemirror_mode": {
    "name": "ipython",
    "version": 3
   },
   "file_extension": ".py",
   "mimetype": "text/x-python",
   "name": "python",
   "nbconvert_exporter": "python",
   "pygments_lexer": "ipython3",
   "version": "3.11.11"
  },
  "papermill": {
   "default_parameters": {},
   "duration": 3085.109473,
   "end_time": "2022-07-13T16:59:08.278091",
   "environment_variables": {},
   "exception": null,
   "input_path": "sagemaker-pipelines-preprocess-train-evaluate-batch-transform.ipynb",
   "output_path": "/opt/ml/processing/output/sagemaker-pipelines-preprocess-train-evaluate-batch-transform-2022-07-13-15-54-21.ipynb",
   "parameters": {
    "kms_key": "arn:aws:kms:us-west-2:000000000000:1234abcd-12ab-34cd-56ef-1234567890ab"
   },
   "start_time": "2022-07-13T16:07:43.168618",
   "version": "2.3.4"
  }
 },
 "nbformat": 4,
 "nbformat_minor": 5
}
