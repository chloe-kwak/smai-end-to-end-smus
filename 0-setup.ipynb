{
 "cells": [
  {
   "cell_type": "markdown",
   "id": "572c21ea-3f15-4f80-9937-c8e611b34f65",
   "metadata": {},
   "source": [
    "# [Lab0] 환경 설정 및 초기화\n",
    "\n",
    "이 노트북에서는 SageMaker 엔드투엔드 머신러닝 워크플로우를 위한 환경을 설정합니다.\n",
    "\n",
    "## 주요 설정 내용\n",
    "- AWS 환경 및 권한 설정\n",
    "- MLflow 추적 서버 연결\n",
    "- 데이터 준비 및 S3 업로드\n",
    "- 실험 환경 초기화"
   ]
  },
  {
   "cell_type": "markdown",
   "id": "d3026786-de3d-4c4a-819a-41ee75004e9e",
   "metadata": {},
   "source": [
    "## 1. 필수 라이브러리 및 AWS 환경 설정"
   ]
  },
  {
   "cell_type": "code",
   "execution_count": null,
   "id": "3dfa0636-53f2-4a92-88d0-216b9d014086",
   "metadata": {},
   "outputs": [],
   "source": [
    "# 필요한 패키지 설치 (주석 해제하여 실행)\n",
    "# %pip install -q mlflow==2.13.2 sagemaker-mlflow"
   ]
  },
  {
   "cell_type": "code",
   "execution_count": null,
   "id": "50ab4e86-664c400b-ba58-228b4b9d7ac8",
   "metadata": {},
   "outputs": [],
   "source": [
    "# 패키지 설치 후 커널 재시작 (필요시 주석 해제)\n",
    "# import IPython\n",
    "# IPython.Application.instance().kernel.do_shutdown(True)"
   ]
  },
  {
   "cell_type": "code",
   "execution_count": null,
   "id": "731e6844-1727-43f4-8378-314cd6efc82b",
   "metadata": {},
   "outputs": [],
   "source": [
    "# 필수 라이브러리 임포트\n",
    "import json\n",
    "import os\n",
    "import logging\n",
    "from time import gmtime, strftime\n",
    "\n",
    "import boto3\n",
    "import pandas as pd\n",
    "import numpy as np\n",
    "import sagemaker\n",
    "import mlflow\n",
    "\n",
    "from sagemaker import image_uris\n",
    "from sagemaker.session import Session\n",
    "from sagemaker.inputs import TrainingInput\n",
    "from sagemaker_studio import Project\n",
    "\n",
    "print(\"✅ 라이브러리 임포트 완료\")"
   ]
  },
  {
   "cell_type": "code",
   "execution_count": null,
   "id": "fa701c41-36aa-435f-9dd1-08db3f2bcaac",
   "metadata": {},
   "outputs": [],
   "source": [
    "# 로깅 설정\n",
    "logging.basicConfig(level=logging.INFO)\n",
    "logger = logging.getLogger(__name__)\n",
    "\n",
    "print(\"✅ 로깅 설정 완료\")"
   ]
  },
  {
   "cell_type": "code",
   "execution_count": null,
   "id": "boto-session-setup",
   "metadata": {},
   "outputs": [],
   "source": [
    "# AWS 세션 및 SageMaker 설정\n",
    "boto_session = boto3.Session()\n",
    "sm_client = boto_session.client(\"sagemaker\")\n",
    "region = boto_session.region_name\n",
    "sess = sagemaker.Session()\n",
    "\n",
    "print(f\"✅ AWS 리전: {region}\")\n",
    "print(f\"✅ SageMaker 세션 초기화 완료\")"
   ]
  },
  {
   "cell_type": "markdown",
   "id": "8aa79bf4-905a-452e-82a6-47fa0db10c26",
   "metadata": {},
   "source": [
    "## 2. SageMaker AI 프로젝트 설정\n",
    "\n",
    "SageMaker AI 프로젝트를 통해 통합된 리소스 관리를 수행합니다."
   ]
  },
  {
   "cell_type": "code",
   "execution_count": null,
   "id": "5ccaa5f9-856d-4976-ac26-7423b6cb906f",
   "metadata": {},
   "outputs": [],
   "source": [
    "# SageMaker AI 프로젝트 초기화\n",
    "project = Project()\n",
    "\n",
    "# MLflow 추적 서버 ARN 가져오기\n",
    "mlflow_arn = project.mlflow_tracking_server_arn\n",
    "mlflow_name = mlflow_arn.split('tracking-server/')[-1]\n",
    "\n",
    "print(f\"✅ MLflow 추적 서버 ARN: {mlflow_arn}\")\n",
    "print(f\"✅ MLflow 서버 이름: {mlflow_name}\")\n",
    "\n",
    "# MLflow 추적 URI 설정\n",
    "mlflow.set_tracking_uri(mlflow_arn)"
   ]
  },
  {
   "cell_type": "code",
   "execution_count": null,
   "id": "88a2c5cf-33f5-451c-addc-626992226b09",
   "metadata": {},
   "outputs": [],
   "source": [
    "# S3 버킷 및 IAM 역할 설정\n",
    "bucket_root = project.s3.root\n",
    "role = project.iam_role\n",
    "\n",
    "# S3 URI 파싱\n",
    "s3_parts = bucket_root.replace(\"s3://\", \"\").split(\"/\")\n",
    "bucket = s3_parts[0]\n",
    "prefix = \"/\".join(s3_parts[1:] + [\"sagemaker/DEMO-xgboost-dm\"])\n",
    "\n",
    "print(f\"✅ S3 버킷: {bucket}\")\n",
    "print(f\"✅ S3 프리픽스: {prefix}\")\n",
    "print(f\"✅ IAM 역할: {role}\")"
   ]
  },
  {
   "cell_type": "code",
   "execution_count": null,
   "id": "fae1796e-b763-411c-977a-03ec495b27ab",
   "metadata": {},
   "outputs": [],
   "source": [
    "# 프로젝트 데이터베이스 정보 가져오기\n",
    "catalog = project.connection().catalog()\n",
    "project_database = catalog.databases[0].name\n",
    "\n",
    "print(f\"✅ 프로젝트 데이터베이스: {project_database}\")"
   ]
  },
  {
   "cell_type": "markdown",
   "id": "20031049-54e3-4490-8a48-5e4eef30b25b",
   "metadata": {},
   "source": [
    "## 3. 실험 설정\n",
    "\n",
    "MLflow를 사용한 실험 추적을 위한 설정을 수행합니다."
   ]
  },
  {
   "cell_type": "code",
   "execution_count": null,
   "id": "d9838dcb-262f-42e2-9db2-f1df1caef542",
   "metadata": {},
   "outputs": [],
   "source": [
    "# 실험 이름 생성\n",
    "experiment_suffix = strftime('%d-%H-%M-%S', gmtime())\n",
    "experiment_name = f\"end-to-end-experiment-{experiment_suffix}\"\n",
    "\n",
    "print(f\"✅ 실험 이름: {experiment_name}\")"
   ]
  },
  {
   "cell_type": "markdown",
   "id": "fbc46bec-915e-4a7b-bce8-676032c52a26",
   "metadata": {},
   "source": [
    "## 4. 데이터 준비\n",
    "\n",
    "은행 마케팅 데이터셋을 준비하고 기본적인 탐색을 수행합니다."
   ]
  },
  {
   "cell_type": "code",
   "execution_count": null,
   "id": "d9e4f305-d1cc-4662-845e-84354532d5ce",
   "metadata": {},
   "outputs": [],
   "source": [
    "import zipfile\n",
    "\n",
    "# 데이터 압축 해제\n",
    "with zipfile.ZipFile('bank-additional.zip', 'r') as zip_ref:\n",
    "    zip_ref.extractall('.')\n",
    "    \n",
    "print(\"✅ 데이터 압축 해제 완료\")"
   ]
  },
  {
   "cell_type": "code",
   "execution_count": null,
   "id": "a71551cf-9428-4858-b344-b20b2671a964",
   "metadata": {},
   "outputs": [],
   "source": [
    "# 데이터 로드 및 기본 정보 확인\n",
    "data = pd.read_csv('./bank-additional/bank-additional-full.csv')\n",
    "\n",
    "print(f\"✅ 데이터 로드 완료\")\n",
    "print(f\"   - 데이터 크기: {data.shape}\")\n",
    "print(f\"   - 컬럼 수: {len(data.columns)}\")\n",
    "print(f\"   - 타겟 변수 분포:\")\n",
    "print(data['y'].value_counts())\n",
    "\n",
    "# 처음 5행 표시\n",
    "print(\"\\n📊 데이터 미리보기:\")\n",
    "display(data.head())"
   ]
  },
  {
   "cell_type": "markdown",
   "id": "variable-storage",
   "metadata": {},
   "source": [
    "## 5. 변수 저장\n",
    "\n",
    "다음 노트북에서 사용할 중요한 변수들을 저장합니다."
   ]
  },
  {
   "cell_type": "code",
   "execution_count": null,
   "id": "4562ffc2-1166-4470-91bd-eeee6c4f8bf9",
   "metadata": {},
   "outputs": [],
   "source": [
    "# 중요한 변수들을 다음 노트북에서 사용하기 위해 저장\n",
    "%store bucket\n",
    "%store prefix\n",
    "%store role\n",
    "%store region\n",
    "%store mlflow_arn\n",
    "%store mlflow_name\n",
    "%store experiment_name\n",
    "\n",
    "print(\"✅ 모든 변수가 저장되었습니다.\")\n",
    "print(\"\\n📋 저장된 변수 요약:\")\n",
    "print(f\"   - S3 버킷: {bucket}\")\n",
    "print(f\"   - S3 프리픽스: {prefix}\")\n",
    "print(f\"   - 리전: {region}\")\n",
    "print(f\"   - 실험 이름: {experiment_name}\")\n",
    "print(f\"   - MLflow 서버: {mlflow_name}\")"
   ]
  },
  {
   "cell_type": "markdown",
   "id": "setup-complete",
   "metadata": {},
   "source": [
    "## ✅ 설정 완료\n",
    "\n",
    "환경 설정이 완료되었습니다! 이제 다음 노트북 `1-preprocessing.ipynb`로 진행하여 데이터 전처리를 수행할 수 있습니다.\n",
    "\n",
    "### 다음 단계\n",
    "1. **데이터 전처리** (`1-preprocessing.ipynb`): SageMaker Processing을 사용한 데이터 전처리\n",
    "2. **모델 훈련** (`2-training.ipynb`): SageMaker Training Job을 사용한 모델 훈련\n",
    "3. **모델 배포** (`3-test-and-deploy.ipynb`): 모델 평가 및 배포\n",
    "4. **파이프라인 구축** (`4-pipelines.ipynb`): 엔드투엔드 ML 파이프라인 구축"
   ]
  }
 ],
 "metadata": {
  "kernelspec": {
   "display_name": "Python 3 (ipykernel)",
   "language": "python",
   "name": "python3"
  },
  "language_info": {
   "codemirror_mode": {
    "name": "ipython",
    "version": 3
   },
   "file_extension": ".py",
   "mimetype": "text/x-python",
   "name": "python",
   "nbconvert_exporter": "python",
   "pygments_lexer": "ipython3",
   "version": "3.11.11"
  }
 },
 "nbformat": 4,
 "nbformat_minor": 5
}
